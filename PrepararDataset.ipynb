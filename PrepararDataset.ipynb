{
 "cells": [
  {
   "cell_type": "code",
   "execution_count": 1,
   "metadata": {},
   "outputs": [],
   "source": [
    "import os, sys\n",
    "import re\n",
    "import shutil\n",
    "import random\n",
    "from PIL import Image"
   ]
  },
  {
   "cell_type": "code",
   "execution_count": 2,
   "metadata": {},
   "outputs": [
    {
     "name": "stdout",
     "output_type": "stream",
     "text": [
      "C:\\Users\\Usuario\\OneDrive\\Documentos\\Master\\TFM\\TFM\\imagenes\n"
     ]
    }
   ],
   "source": [
    "%cd ./imagenes/\n",
    "%mkdir Train\n",
    "%mkdir All_Imag"
   ]
  },
  {
   "cell_type": "code",
   "execution_count": 3,
   "metadata": {},
   "outputs": [
    {
     "name": "stdout",
     "output_type": "stream",
     "text": [
      "C:\\Users\\Usuario\\OneDrive\\Documentos\\Master\\TFM\\TFM\\imagenes\\TGC2020v0.3_PRL\n"
     ]
    }
   ],
   "source": [
    "%cd ./TGC2020v0.3_PRL"
   ]
  },
  {
   "cell_type": "code",
   "execution_count": 4,
   "metadata": {},
   "outputs": [],
   "source": [
    "def Change_name():\n",
    "    for folders in os.listdir('./'):\n",
    "\n",
    "        if folders.endswith(\".txt\"):\n",
    "            continue\n",
    "        folder = os.path.join('./', folders )\n",
    "\n",
    "\n",
    "        for file_name in os.listdir(folder):\n",
    "\n",
    "            regex = re.compile(r'([A-Z][a-z]+)')\n",
    "            localizacion = regex.findall(file_name)\n",
    "\n",
    "            #Sustituir localizacion por variable camara\n",
    "            if localizacion == ['Arucas']:\n",
    "                camara = \"c1s1\"\n",
    "            if localizacion == ['Teror']:\n",
    "                camara = \"c2s1\"\n",
    "            if localizacion == ['Presa', 'De', 'Hornos']:\n",
    "                camara = \"c3s1\"\n",
    "            if localizacion == ['Ayagaures']:\n",
    "                camara = \"c4s1\"\n",
    "            if localizacion == ['Parque','Sur']:\n",
    "                camara = \"c5s1\"\n",
    "            if localizacion == ['Tunte']:\n",
    "                camara = \"c6s1\"\n",
    "\n",
    "\n",
    "            regex = re.compile(r'(_[0-9]+)')\n",
    "            frames_no_formato = regex.findall(file_name)\n",
    "\n",
    "            #Borrar los ultimos 4 ceros\n",
    "            frames_no_formato = frames_no_formato[:-1]\n",
    "            #Borrar _\n",
    "            frames_no_formato = [s.replace(\"_\", \"\") for s in frames_no_formato]\n",
    "            #unir\n",
    "            frame =''.join(frames_no_formato)\n",
    "\n",
    "            ID = int(folders)\n",
    "\n",
    "            if ID > 999:\n",
    "                number_0 = \"\"\n",
    "            if ID <= 999:\n",
    "                number_0 = \"0\"\n",
    "            if ID <= 99:\n",
    "                number_0 = \"00\"\n",
    "            if ID <= 9:\n",
    "                number_0 = \"000\"\n",
    "\n",
    "            new_name = number_0 + folders + \"_\" + camara + \"_\" + frame + \"_\" + \"01\" + \".jpg\"\n",
    "\n",
    "            imagen = folder + '/' + file_name\n",
    "            name = folder + '/' + new_name\n",
    "\n",
    "            if os.path.isfile(name) == True:\n",
    "                os.remove(imagen)\n",
    "                continue\n",
    "\n",
    "            os.rename(imagen, name)\n",
    "    return"
   ]
  },
  {
   "cell_type": "code",
   "execution_count": 5,
   "metadata": {},
   "outputs": [],
   "source": [
    "def resize():\n",
    "    for folders in os.listdir('./'):\n",
    "        \n",
    "        if folders.endswith(\".txt\"):\n",
    "            continue\n",
    "        folder = os.path.join('./', folders )\n",
    "        for file_name in os.listdir(folder):\n",
    "            file_dir = os.path.join(folder, file_name )\n",
    "            im = Image.open(file_dir)\n",
    "            imResize = im.resize((64,128), Image.ANTIALIAS)  #TAMAÑO MARKET\n",
    "            imResize.save(file_dir)\n",
    "        "
   ]
  },
  {
   "cell_type": "code",
   "execution_count": 10,
   "metadata": {},
   "outputs": [],
   "source": [
    "def move():\n",
    "    for folders in os.listdir('./'):\n",
    "        \n",
    "        if folders.endswith(\".txt\"):\n",
    "            continue\n",
    "        folder = os.path.join('./', folders )\n",
    "        for file_name in os.listdir(folder):\n",
    "            file_dir = os.path.join(folder, file_name )\n",
    "            shutil.copy(file_dir, './../All_Imag')"
   ]
  },
  {
   "cell_type": "code",
   "execution_count": 12,
   "metadata": {},
   "outputs": [],
   "source": [
    "def img_train_test_split(img_source_dir,folder_target, porcentaje):\n",
    "\n",
    "    train_counter = 0\n",
    "    subdir_fullpath = img_source_dir\n",
    "    # Contar el número de imagenes totales\n",
    "    count_images=0\n",
    "    for filename in os.listdir(subdir_fullpath):\n",
    "        if filename.endswith(\".jpg\"):  \n",
    "            count_images+= 1\n",
    "    print(count_images)\n",
    "    \n",
    "    total_images=count_images\n",
    "    count_images=0\n",
    "    \n",
    "    #Ordenar de manera aleatoria las imagenes\n",
    "    list_files=os.listdir(subdir_fullpath)\n",
    "    random.shuffle(list_files)\n",
    "    \n",
    "    #Separacion de imagenes\n",
    "    for filename in list_files:\n",
    "        if filename.endswith(\".jpg\"): \n",
    "            fileparts = filename.split('.')\n",
    "            if count_images <= int(total_images*porcentaje):\n",
    "                \n",
    "                imagen = subdir_fullpath + '/' + filename\n",
    "                direccion = folder_target + '/' + filename\n",
    "                shutil.move(imagen, direccion)\n",
    "                train_counter += 1\n",
    "                \n",
    "            count_images += 1\n",
    "                    \n",
    "    print('moved ' + str(train_counter) + ' images to ' + folder_target  )\n"
   ]
  },
  {
   "cell_type": "code",
   "execution_count": 5,
   "metadata": {},
   "outputs": [],
   "source": [
    "Change_name()\n",
    "resize()\n",
    "move()"
   ]
  },
  {
   "cell_type": "code",
   "execution_count": 13,
   "metadata": {},
   "outputs": [
    {
     "name": "stdout",
     "output_type": "stream",
     "text": [
      "4068\n",
      "moved 3255 images to ./../Train\n"
     ]
    }
   ],
   "source": [
    "img_train_test_split('./../All_Imag', './../Train', 0.8)\n",
    "os.rename('./../All_Imag', './../Test')"
   ]
  },
  {
   "cell_type": "code",
   "execution_count": null,
   "metadata": {},
   "outputs": [],
   "source": []
  }
 ],
 "metadata": {
  "kernelspec": {
   "display_name": "entornoGPU",
   "language": "python",
   "name": "entornogpu"
  },
  "language_info": {
   "codemirror_mode": {
    "name": "ipython",
    "version": 3
   },
   "file_extension": ".py",
   "mimetype": "text/x-python",
   "name": "python",
   "nbconvert_exporter": "python",
   "pygments_lexer": "ipython3",
   "version": "3.7.7"
  }
 },
 "nbformat": 4,
 "nbformat_minor": 4
}
